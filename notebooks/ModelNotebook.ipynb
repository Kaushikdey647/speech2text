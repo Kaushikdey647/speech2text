{
 "cells": [
  {
   "cell_type": "markdown",
   "metadata": {},
   "source": [
    "# speech2text\n",
    "- Its a simple notebook to convert speech to text.\n",
    "- We will be using wave2vec herre"
   ]
  },
  {
   "cell_type": "markdown",
   "metadata": {},
   "source": [
    "### 1. Get the libraries\n",
    "- Make sure you have them installed"
   ]
  },
  {
   "cell_type": "code",
   "execution_count": 30,
   "metadata": {},
   "outputs": [],
   "source": [
    "    import torch\n",
    "    import librosa\n",
    "    import numpy as np\n",
    "    import soundfile as sf\n",
    "    from scipy.io import wavfile\n",
    "    from IPython.display import Audio\n",
    "    from transformers import Wav2Vec2ForCTC, Wav2Vec2Tokenizer"
   ]
  },
  {
   "cell_type": "markdown",
   "metadata": {},
   "source": [
    "### 2. Initialize the models"
   ]
  },
  {
   "cell_type": "code",
   "execution_count": 31,
   "metadata": {},
   "outputs": [
    {
     "name": "stderr",
     "output_type": "stream",
     "text": [
      "The tokenizer class you load from this checkpoint is not the same type as the class this function is called from. It may result in unexpected tokenization. \n",
      "The tokenizer class you load from this checkpoint is 'Wav2Vec2CTCTokenizer'. \n",
      "The class this function is called from is 'Wav2Vec2Tokenizer'.\n",
      "/home/kaydee647/.local/lib/python3.8/site-packages/transformers/models/wav2vec2/tokenization_wav2vec2.py:754: FutureWarning: The class `Wav2Vec2Tokenizer` is deprecated and will be removed in version 5 of Transformers. Please use `Wav2Vec2Processor` or `Wav2Vec2CTCTokenizer` instead.\n",
      "  warnings.warn(\n",
      "Some weights of Wav2Vec2ForCTC were not initialized from the model checkpoint at facebook/wav2vec2-base-960h and are newly initialized: ['wav2vec2.masked_spec_embed']\n",
      "You should probably TRAIN this model on a down-stream task to be able to use it for predictions and inference.\n"
     ]
    }
   ],
   "source": [
    "tokenizer = Wav2Vec2Tokenizer.from_pretrained(\"facebook/wav2vec2-base-960h\")\n",
    "model = Wav2Vec2ForCTC.from_pretrained(\"facebook/wav2vec2-base-960h\")"
   ]
  },
  {
   "cell_type": "markdown",
   "metadata": {},
   "source": [
    "### 3. Load the audio data and Framerate"
   ]
  },
  {
   "cell_type": "code",
   "execution_count": 82,
   "metadata": {},
   "outputs": [
    {
     "name": "stdout",
     "output_type": "stream",
     "text": [
      "Sampling rate: 44100  Hz\n"
     ]
    }
   ],
   "source": [
    "audio_path = 'wenometchainsoma.wav'\n",
    "[framerate, sound_dat] = wavfile.read(audio_path)\n",
    "time = np.arange( 0, len(sound_dat) )/framerate\n",
    "print('Sampling rate:', framerate, ' Hz')"
   ]
  },
  {
   "cell_type": "markdown",
   "metadata": {},
   "source": [
    "### 4. Convert the audio to spectrogram\n",
    "We used the sampling rate of 16000 as word2vec accepts this sampling range"
   ]
  },
  {
   "cell_type": "code",
   "execution_count": 83,
   "metadata": {},
   "outputs": [
    {
     "name": "stdout",
     "output_type": "stream",
     "text": [
      "[0.         0.         0.         ... 0.00783363 0.02488752 0.        ]\n"
     ]
    }
   ],
   "source": [
    "input_audio, _ = librosa.load(audio_path, sr=16000)\n",
    "print(input_audio)"
   ]
  },
  {
   "cell_type": "markdown",
   "metadata": {},
   "source": [
    "### 5. Convert the spectrogram to word2vec\n",
    "Tokenize the spectogram and convert it to word2vec"
   ]
  },
  {
   "cell_type": "code",
   "execution_count": 84,
   "metadata": {},
   "outputs": [
    {
     "name": "stdout",
     "output_type": "stream",
     "text": [
      "{'input_values': tensor([[-5.0579e-05, -5.0579e-05, -5.0579e-05,  ...,  6.2714e-02,\n",
      "          1.9935e-01, -5.0579e-05]])}\n"
     ]
    }
   ],
   "source": [
    "\n",
    "token = tokenizer(input_audio, return_tensors='pt')\n",
    "print(token)\n",
    "input_values = token['input_values']\n"
   ]
  },
  {
   "cell_type": "markdown",
   "metadata": {},
   "source": [
    "### 6. Get the prediction\n",
    "- The prediction is taken in form of logits\n",
    "- In Math, Logit is a function that maps probabilities ([0, 1]) to R ((-inf, inf))\n",
    "- If you know softmax, it is kindof the inverse of that function(not exactly)\n",
    "- L = ln(P/(1-P)) where P is the probability of the class and 1-P is the probability of the other class"
   ]
  },
  {
   "cell_type": "code",
   "execution_count": 85,
   "metadata": {},
   "outputs": [
    {
     "name": "stdout",
     "output_type": "stream",
     "text": [
      "tensor([[[ 13.8625, -28.2701, -27.9274,  ...,  -7.2499,  -7.1606,  -7.6149],\n",
      "         [ 13.9155, -28.3151, -27.9709,  ...,  -7.2218,  -7.1493,  -7.6352],\n",
      "         [ 14.0325, -28.4185, -28.0714,  ...,  -7.2433,  -7.2460,  -7.6442],\n",
      "         ...,\n",
      "         [ 12.9741, -27.0169, -26.7081,  ...,  -6.9358,  -7.0046,  -6.8817],\n",
      "         [ 13.0958, -27.1575, -26.8484,  ...,  -7.0554,  -7.1086,  -6.9866],\n",
      "         [ 13.0455, -27.0814, -26.7764,  ...,  -7.0332,  -7.0730,  -7.0397]]],\n",
      "       grad_fn=<ViewBackward0>)\n"
     ]
    }
   ],
   "source": [
    "logits = model(input_values).logits\n",
    "print(logits)"
   ]
  },
  {
   "cell_type": "markdown",
   "metadata": {},
   "source": [
    "### 7. But dude, what is argmax?\n",
    "- argmax is the index of the maximum value in the array\n",
    "- In this case, every index of the logit has an array of probabilities (in logits ofc)\n",
    "- So, the index of the maximum value in the logit is the index of the class that is highly probable\n",
    "- We take that for every token and say that it is the predicted indices"
   ]
  },
  {
   "cell_type": "code",
   "execution_count": 86,
   "metadata": {},
   "outputs": [
    {
     "name": "stdout",
     "output_type": "stream",
     "text": [
      "tensor([[0, 0, 0,  ..., 0, 0, 0]])\n"
     ]
    }
   ],
   "source": [
    "predicted_indices = torch.argmax(logits, dim=-1)\n",
    "print(predicted_indices)"
   ]
  },
  {
   "cell_type": "markdown",
   "metadata": {},
   "source": [
    "### 8. Did you know that we could use the argmax to get the predicted text?\n",
    "- tokenizer of word2vec2 has a function called batch_decode that takes the predicted indices and returns the predicted text\n",
    "- In this case the predicted indices has only one array, which indicates there is only one text in the prediction?\n",
    "- This is because we took only one that has the highest probability.... remember??"
   ]
  },
  {
   "cell_type": "code",
   "execution_count": 87,
   "metadata": {},
   "outputs": [
    {
     "name": "stdout",
     "output_type": "stream",
     "text": [
      "BY NAMETER IN WITH SOMON IT'S A MORE HOT BEN DOWN WE WE WE WI MILL IN O HE ESENTLY IN E TURN BROWN E WE W AND WE CAN BEAT A BAIN BEN ON LONG THE SKY IS OFF LITTLE\n"
     ]
    }
   ],
   "source": [
    "transcription = tokenizer.batch_decode(predicted_indices)[0] #Since there is only one\n",
    "print(transcription)"
   ]
  }
 ],
 "metadata": {
  "kernelspec": {
   "display_name": "Python 3.8.10 64-bit",
   "language": "python",
   "name": "python3"
  },
  "language_info": {
   "codemirror_mode": {
    "name": "ipython",
    "version": 3
   },
   "file_extension": ".py",
   "mimetype": "text/x-python",
   "name": "python",
   "nbconvert_exporter": "python",
   "pygments_lexer": "ipython3",
   "version": "3.8.10"
  },
  "orig_nbformat": 4,
  "vscode": {
   "interpreter": {
    "hash": "31f2aee4e71d21fbe5cf8b01ff0e069b9275f58929596ceb00d14d90e3e16cd6"
   }
  }
 },
 "nbformat": 4,
 "nbformat_minor": 2
}
